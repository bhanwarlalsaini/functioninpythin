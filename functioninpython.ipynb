{
 "cells": [
  {
   "cell_type": "code",
   "execution_count": 1,
   "metadata": {},
   "outputs": [
    {
     "name": "stdout",
     "output_type": "stream",
     "text": [
      "1 if you add one it become 2\n"
     ]
    },
    {
     "data": {
      "text/plain": [
       "2"
      ]
     },
     "execution_count": 1,
     "metadata": {},
     "output_type": "execute_result"
    }
   ],
   "source": [
    "#how to define a function \n",
    "def add(a):\n",
    "    b=a+1\n",
    "    print(a,\"if you add one it become\",b)\n",
    "    return b\n",
    "\n",
    "add(1)"
   ]
  },
  {
   "cell_type": "code",
   "execution_count": 2,
   "metadata": {},
   "outputs": [
    {
     "name": "stdout",
     "output_type": "stream",
     "text": [
      "10.2 if you add one it become 11.2\n"
     ]
    },
    {
     "data": {
      "text/plain": [
       "11.2"
      ]
     },
     "execution_count": 2,
     "metadata": {},
     "output_type": "execute_result"
    }
   ],
   "source": [
    "add(10.2)"
   ]
  },
  {
   "cell_type": "code",
   "execution_count": 4,
   "metadata": {},
   "outputs": [
    {
     "name": "stdout",
     "output_type": "stream",
     "text": [
      "enter the value of a3\n",
      "enter the value of b3\n"
     ]
    },
    {
     "data": {
      "text/plain": [
       "9"
      ]
     },
     "execution_count": 4,
     "metadata": {},
     "output_type": "execute_result"
    }
   ],
   "source": [
    "def mult(a,b):\n",
    "    c=a*b\n",
    "    return c\n",
    "\n",
    "a =int(input(\"enter the value of a\"))\n",
    "b = int(input(\"enter the value of b\"))\n",
    "mult(a,b)"
   ]
  },
  {
   "cell_type": "code",
   "execution_count": 5,
   "metadata": {},
   "outputs": [
    {
     "name": "stdout",
     "output_type": "stream",
     "text": [
      "enter the value of a4\n",
      "3\n"
     ]
    },
    {
     "data": {
      "text/plain": [
       "'3333'"
      ]
     },
     "execution_count": 5,
     "metadata": {},
     "output_type": "execute_result"
    }
   ],
   "source": [
    "def mult(a,b):\n",
    "    c=a*b\n",
    "    return c\n",
    "\n",
    "a =int(input(\"enter the value of a\"))\n",
    "b= input()\n",
    "mult(a,b)"
   ]
  },
  {
   "cell_type": "code",
   "execution_count": 6,
   "metadata": {},
   "outputs": [
    {
     "data": {
      "text/plain": [
       "5"
      ]
     },
     "execution_count": 6,
     "metadata": {},
     "output_type": "execute_result"
    }
   ],
   "source": [
    "# we use to short the code let's see example \n",
    "a1 = 4\n",
    "a2 = 5\n",
    "c2 = a1 + a2 + a1 * a2 + 1 - 2\n",
    "if c2<0:\n",
    "    c2 = 0 #let\n",
    "else:\n",
    "    c2 = 5\n",
    "c2"
   ]
  },
  {
   "cell_type": "code",
   "execution_count": 7,
   "metadata": {},
   "outputs": [
    {
     "data": {
      "text/plain": [
       "5"
      ]
     },
     "execution_count": 7,
     "metadata": {},
     "output_type": "execute_result"
    }
   ],
   "source": [
    "def Equation(b1,b2):\n",
    "    c3 = b1 + b2 + b1 * b2 + 1 - 2\n",
    "    if c3 < 0:\n",
    "        c3 = 0\n",
    "    else:\n",
    "        c3 =5\n",
    "    return c3\n",
    "\n",
    "b1 = 4\n",
    "b2 = 5\n",
    "c4 = Equation(b1,b2)\n",
    "c4"
   ]
  },
  {
   "cell_type": "code",
   "execution_count": 8,
   "metadata": {},
   "outputs": [
    {
     "name": "stdout",
     "output_type": "stream",
     "text": [
      "[1, 2, 3, 4, 5, 6, 7, 8, 9]\n"
     ]
    },
    {
     "data": {
      "text/plain": [
       "45"
      ]
     },
     "execution_count": 8,
     "metadata": {},
     "output_type": "execute_result"
    }
   ],
   "source": [
    "list = [1,2,3,4,5,6,7,8,9]\n",
    "print(list)\n",
    "sum(list)"
   ]
  },
  {
   "cell_type": "code",
   "execution_count": null,
   "metadata": {},
   "outputs": [],
   "source": [
    "len(list)"
   ]
  },
  {
   "cell_type": "code",
   "execution_count": 12,
   "metadata": {},
   "outputs": [
    {
     "name": "stdout",
     "output_type": "stream",
     "text": [
      "1\n",
      "2\n",
      "3\n",
      "4\n",
      "5\n",
      "6\n",
      "77\n"
     ]
    }
   ],
   "source": [
    "def printing_list(list1):\n",
    "    for i in list1:\n",
    "        print(i)\n",
    "        \n",
    "list1 = [1,2,3,4,5,6,77]\n",
    "printing_list(list1)"
   ]
  },
  {
   "cell_type": "code",
   "execution_count": 13,
   "metadata": {},
   "outputs": [
    {
     "name": "stdout",
     "output_type": "stream",
     "text": [
      "1\n",
      "2\n",
      "3\n",
      "4\n",
      "5\n"
     ]
    }
   ],
   "source": [
    "A = [1,2,3,4,5]\n",
    "for i in A:\n",
    "    print(i)"
   ]
  },
  {
   "cell_type": "code",
   "execution_count": 20,
   "metadata": {},
   "outputs": [
    {
     "name": "stdout",
     "output_type": "stream",
     "text": [
      "michel  thirller 1999\n"
     ]
    },
    {
     "data": {
      "text/plain": [
       "'modern'"
      ]
     },
     "execution_count": 20,
     "metadata": {},
     "output_type": "execute_result"
    }
   ],
   "source": [
    "# example of if else uning function\n",
    "def typeofalbum(artist,album,released_year):\n",
    "    print(artist,album,released_year)\n",
    "    if released_year > 1980:\n",
    "        return \"modern\"\n",
    "    else:\n",
    "        return \"oldien\"\n",
    "\n",
    "x = typeofalbum(\"michel \", \"thirller\", 1999)\n",
    "x"
   ]
  },
  {
   "cell_type": "code",
   "execution_count": 21,
   "metadata": {},
   "outputs": [
    {
     "data": {
      "text/plain": [
       "('it is not rating album', 5)"
      ]
     },
     "execution_count": 21,
     "metadata": {},
     "output_type": "execute_result"
    }
   ],
   "source": [
    "#default argument in function\n",
    "def isgoodrating(rating=5):\n",
    "    if rating > 8:\n",
    "        return (\"it is rating album\", rating)\n",
    "    else:\n",
    "        return (\"it is not rating album\", rating)\n",
    "\n",
    "isgoodrating()\n"
   ]
  },
  {
   "cell_type": "code",
   "execution_count": 22,
   "metadata": {},
   "outputs": [
    {
     "data": {
      "text/plain": [
       "('it is rating album', 10)"
      ]
     },
     "execution_count": 22,
     "metadata": {},
     "output_type": "execute_result"
    }
   ],
   "source": [
    "isgoodrating(10)"
   ]
  },
  {
   "cell_type": "code",
   "execution_count": 1,
   "metadata": {},
   "outputs": [
    {
     "data": {
      "text/plain": [
       "10"
      ]
     },
     "execution_count": 1,
     "metadata": {},
     "output_type": "execute_result"
    }
   ],
   "source": [
    "5+5"
   ]
  },
  {
   "cell_type": "code",
   "execution_count": 2,
   "metadata": {},
   "outputs": [],
   "source": [
    "st = \"bhanwar\""
   ]
  },
  {
   "cell_type": "code",
   "execution_count": 6,
   "metadata": {},
   "outputs": [
    {
     "name": "stdout",
     "output_type": "stream",
     "text": [
      "b\n"
     ]
    }
   ],
   "source": [
    "print(st[0])"
   ]
  },
  {
   "cell_type": "code",
   "execution_count": 8,
   "metadata": {},
   "outputs": [
    {
     "name": "stdout",
     "output_type": "stream",
     "text": [
      "michel jackson  it is an artist\n"
     ]
    }
   ],
   "source": [
    "artist = \"michel jackson \"\n",
    "def printer(artist):\n",
    "    internal_var = artist\n",
    "    print(artist, \"it is an artist\")\n",
    "\n",
    "printer(artist)\n",
    "    "
   ]
  },
  {
   "cell_type": "code",
   "execution_count": 9,
   "metadata": {},
   "outputs": [
    {
     "ename": "NameError",
     "evalue": "name 'internal_var' is not defined",
     "output_type": "error",
     "traceback": [
      "\u001b[1;31m---------------------------------------------------------------------------\u001b[0m",
      "\u001b[1;31mNameError\u001b[0m                                 Traceback (most recent call last)",
      "\u001b[1;32m<ipython-input-9-4af09383ac08>\u001b[0m in \u001b[0;36m<module>\u001b[1;34m\u001b[0m\n\u001b[1;32m----> 1\u001b[1;33m \u001b[0mprint\u001b[0m\u001b[1;33m(\u001b[0m\u001b[0minternal_var\u001b[0m\u001b[1;33m)\u001b[0m\u001b[1;33m\u001b[0m\u001b[1;33m\u001b[0m\u001b[0m\n\u001b[0m",
      "\u001b[1;31mNameError\u001b[0m: name 'internal_var' is not defined"
     ]
    }
   ],
   "source": [
    "print(internal_var) "
   ]
  },
  {
   "cell_type": "code",
   "execution_count": 14,
   "metadata": {},
   "outputs": [
    {
     "name": "stdout",
     "output_type": "stream",
     "text": [
      "michel jackson  it is an artist\n"
     ]
    }
   ],
   "source": [
    "artist1 = \"michel \"\n",
    "def printer1(artist1):\n",
    "    global internal_var\n",
    "    internal_var = artist1\n",
    "    print(artist1, \"it is an artist\")\n",
    "    \n",
    "printer1(artist)\n",
    "    "
   ]
  },
  {
   "cell_type": "code",
   "execution_count": 18,
   "metadata": {},
   "outputs": [
    {
     "name": "stdout",
     "output_type": "stream",
     "text": [
      "michel jackson \n"
     ]
    }
   ],
   "source": [
    "print(internal_var)"
   ]
  },
  {
   "cell_type": "code",
   "execution_count": 20,
   "metadata": {},
   "outputs": [
    {
     "name": "stdout",
     "output_type": "stream",
     "text": [
      "AC/DC'S RATING IS  10.2\n",
      "deep purple rating is 0.0\n",
      "my fabband is  AC/DC\n"
     ]
    }
   ],
   "source": [
    "#example of global variable\n",
    "myfabband = \"AC/DC\"\n",
    "def getband(getname):\n",
    "    if myfabband == getname:\n",
    "        return 10.2\n",
    "    else:\n",
    "        return 0.0\n",
    "\n",
    "print(\"AC/DC'S RATING IS \", getband(\"AC/DC\"))\n",
    "print(\"deep purple rating is\", getband(\"deep purple\"))\n",
    "print(\"my fabband is \", myfabband)"
   ]
  },
  {
   "cell_type": "code",
   "execution_count": 22,
   "metadata": {},
   "outputs": [
    {
     "name": "stdout",
     "output_type": "stream",
     "text": [
      "AC/DC'S RATING IS  10.2\n",
      "deep purple rating is 0.0\n",
      "my fabband is  AC/DC\n"
     ]
    }
   ],
   "source": [
    "#example of local variable\n",
    "def getband(getname):\n",
    "    myfabband = \"AC/DC\"\n",
    "    if myfabband == getname:\n",
    "        return 10.2\n",
    "    else:\n",
    "        return 0.0\n",
    "\n",
    "print(\"AC/DC'S RATING IS \", getband(\"AC/DC\"))\n",
    "print(\"deep purple rating is\", getband(\"deep purple\"))\n",
    "print(\"my fabband is \", myfabband)"
   ]
  },
  {
   "cell_type": "code",
   "execution_count": 24,
   "metadata": {},
   "outputs": [
    {
     "name": "stdout",
     "output_type": "stream",
     "text": [
      "AC/DC'S RATING IS  0.0\n",
      "deep purple rating is 10.2\n",
      "my fabband is  AC/DC\n"
     ]
    }
   ],
   "source": [
    "#example of global variable and local variable\n",
    "myfabband = \"AC/DC\"\n",
    "def getband(getname):\n",
    "    myfabband =\"deep purple\"\n",
    "    if myfabband == getname:\n",
    "        return 10.2\n",
    "    else:\n",
    "        return 0.0\n",
    "\n",
    "print(\"AC/DC'S RATING IS \", getband(\"AC/DC\"))\n",
    "print(\"deep purple rating is\", getband(\"deep purple\"))\n",
    "print(\"my fabband is \", myfabband)"
   ]
  },
  {
   "cell_type": "code",
   "execution_count": null,
   "metadata": {},
   "outputs": [],
   "source": []
  }
 ],
 "metadata": {
  "kernelspec": {
   "display_name": "Python 3",
   "language": "python",
   "name": "python3"
  },
  "language_info": {
   "codemirror_mode": {
    "name": "ipython",
    "version": 3
   },
   "file_extension": ".py",
   "mimetype": "text/x-python",
   "name": "python",
   "nbconvert_exporter": "python",
   "pygments_lexer": "ipython3",
   "version": "3.7.3"
  }
 },
 "nbformat": 4,
 "nbformat_minor": 2
}
